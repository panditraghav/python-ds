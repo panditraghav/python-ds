{
 "cells": [
  {
   "cell_type": "markdown",
   "id": "d7c12c54",
   "metadata": {},
   "source": [
    "# Jupyter notebook example\n",
    "## Subtitle\n",
    "This is an example\n",
    "1. This is item 1\n",
    "2. This is item 2"
   ]
  },
  {
   "cell_type": "code",
   "execution_count": 2,
   "id": "3aa6a90c",
   "metadata": {},
   "outputs": [
    {
     "name": "stdout",
     "output_type": "stream",
     "text": [
      "Hello world\n"
     ]
    }
   ],
   "source": [
    "print('Hello world')"
   ]
  },
  {
   "cell_type": "code",
   "execution_count": null,
   "id": "7f60d55a",
   "metadata": {},
   "outputs": [],
   "source": [
    "import numpy as np\n",
    "import matplotlib.pyplot as plt\n",
    "import matplotlib"
   ]
  },
  {
   "cell_type": "code",
   "execution_count": null,
   "id": "86aa04d1",
   "metadata": {},
   "outputs": [],
   "source": [
    "# Data for plotting\n",
    "t = np.arrange(0.0, 2.0, 0.1)\n",
    "s = 1 + np.sin(2 * np.pi * t)"
   ]
  }
 ],
 "metadata": {
  "kernelspec": {
   "display_name": "Python 3.10.2 64-bit",
   "language": "python",
   "name": "python3"
  },
  "language_info": {
   "codemirror_mode": {
    "name": "ipython",
    "version": 3
   },
   "file_extension": ".py",
   "mimetype": "text/x-python",
   "name": "python",
   "nbconvert_exporter": "python",
   "pygments_lexer": "ipython3",
   "version": "3.10.2"
  },
  "vscode": {
   "interpreter": {
    "hash": "b56a532244c43c232aa52d8a6e3a4d9e8d7631b1ea85e4335c7c0c1d4c1e08fd"
   }
  }
 },
 "nbformat": 4,
 "nbformat_minor": 5
}
